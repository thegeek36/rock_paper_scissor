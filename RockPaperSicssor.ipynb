{
 "cells": [
  {
   "cell_type": "code",
   "execution_count": 1,
   "id": "ce059c91",
   "metadata": {},
   "outputs": [],
   "source": [
    "import random"
   ]
  },
  {
   "cell_type": "code",
   "execution_count": 3,
   "id": "45b97929",
   "metadata": {},
   "outputs": [
    {
     "name": "stdout",
     "output_type": "stream",
     "text": [
      "rock, paper, or scissors?: paper\n",
      "computer:  paper\n",
      "player:  paper\n",
      "Tie!\n",
      "Play again? (yes/no): yes\n",
      "rock, paper, or scissors?: paper\n",
      "computer:  scissors\n",
      "player:  paper\n",
      "You lose!\n",
      "Play again? (yes/no): no\n",
      "Thank You!!\n"
     ]
    }
   ],
   "source": [
    "while True:\n",
    "    choices = [\"rock\",\"paper\",\"scissors\"]\n",
    "\n",
    "    computer = random.choice(choices)\n",
    "    player = None\n",
    "\n",
    "    while player not in choices:\n",
    "        player = input(\"rock, paper, or scissors?: \").lower()\n",
    "\n",
    "    if player == computer:\n",
    "        print(\"computer: \",computer)\n",
    "        print(\"player: \",player)\n",
    "        print(\"Tie!\")\n",
    "\n",
    "    elif player == \"rock\":\n",
    "        if computer == \"paper\":\n",
    "            print(\"computer: \", computer)\n",
    "            print(\"player: \", player)\n",
    "            print(\"You lose!\")\n",
    "        if computer == \"scissors\":\n",
    "            print(\"computer: \", computer)\n",
    "            print(\"player: \", player)\n",
    "            print(\"You win!\")\n",
    "\n",
    "    elif player == \"scissors\":\n",
    "        if computer == \"rock\":\n",
    "            print(\"computer: \", computer)\n",
    "            print(\"player: \", player)\n",
    "            print(\"You lose!\")\n",
    "        if computer == \"paper\":\n",
    "            print(\"computer: \", computer)\n",
    "            print(\"player: \", player)\n",
    "            print(\"You win!\")\n",
    "\n",
    "    elif player == \"paper\":\n",
    "        if computer == \"scissors\":\n",
    "            print(\"computer: \", computer)\n",
    "            print(\"player: \", player)\n",
    "            print(\"You lose!\")\n",
    "        if computer == \"rock\":\n",
    "            print(\"computer: \", computer)\n",
    "            print(\"player: \", player)\n",
    "            print(\"You win!\")\n",
    "\n",
    "    play_again = input(\"Play again? (yes/no): \").lower()\n",
    "\n",
    "    if play_again != \"yes\":\n",
    "        break\n",
    "\n",
    "print(\"Thank You!!\")"
   ]
  },
  {
   "cell_type": "code",
   "execution_count": null,
   "id": "4b5710e6",
   "metadata": {},
   "outputs": [],
   "source": []
  }
 ],
 "metadata": {
  "kernelspec": {
   "display_name": "Python 3 (ipykernel)",
   "language": "python",
   "name": "python3"
  },
  "language_info": {
   "codemirror_mode": {
    "name": "ipython",
    "version": 3
   },
   "file_extension": ".py",
   "mimetype": "text/x-python",
   "name": "python",
   "nbconvert_exporter": "python",
   "pygments_lexer": "ipython3",
   "version": "3.9.7"
  }
 },
 "nbformat": 4,
 "nbformat_minor": 5
}
